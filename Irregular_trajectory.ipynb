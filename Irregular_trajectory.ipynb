{
 "cells": [
  {
   "cell_type": "markdown",
   "id": "693b023a",
   "metadata": {},
   "source": [
    "## Load Data"
   ]
  },
  {
   "cell_type": "code",
   "execution_count": null,
   "id": "dc4d2c13",
   "metadata": {},
   "outputs": [],
   "source": [
    "import numpy as np\n",
    "import pandas as pd\n",
    "import matplotlib.pyplot as plt\n",
    "import os\n",
    "import seaborn as sns\n",
    "from geopy.distance import geodesic\n"
   ]
  },
  {
   "cell_type": "code",
   "execution_count": null,
   "id": "0e3313fa",
   "metadata": {},
   "outputs": [],
   "source": [
    "file_dir = r\"C:\\Users\\slab\\Desktop\\Stage1\\data\\Device_AB00035.csv\"\n",
    "df = pd.read_csv(file_dir, low_memory=False)\n",
    "\n",
    "## Data Preprocessing\n",
    "# 只留下目標船資料\n",
    "mmsi_target = 416426000\n",
    "\n",
    "df_filtered = df[df['MMSI'] == mmsi_target].copy()"
   ]
  },
  {
   "cell_type": "code",
   "execution_count": null,
   "id": "0f7e3df8",
   "metadata": {},
   "outputs": [],
   "source": [
    "\n",
    "df_filtered = df_filtered[\n",
    "    (df_filtered['Lat'] >= -90) & (df_filtered['Lat'] <= 90) &\n",
    "    (df_filtered['Long'] >= -180) & (df_filtered['Long'] <= 180)\n",
    "].copy()\n",
    "\n",
    "# 將 lat, long 轉 float，ReceiveTime 轉 datetime64\n",
    "df_filtered['Lat'] = df_filtered['Lat'].astype(float)\n",
    "df_filtered['Long'] = df_filtered['Long'].astype(float)\n",
    "df_filtered['ReceiveTime'] = pd.to_datetime(df_filtered['ReceiveTime'], errors='coerce')\n",
    "\n",
    "# 丟掉缺失資料\n",
    "df_filtered = df_filtered.dropna(subset=['Lat', 'Long', 'ReceiveTime'])\n",
    "df_filtered['Long_360'] = df_filtered['Long'] % 360\n",
    "df_filtered['Rot'] = pd.to_numeric(df_filtered['Rot'], errors='coerce')\n",
    "\n",
    "# 確保時間排序\n",
    "df_filtered = df_filtered.sort_values('ReceiveTime').reset_index(drop=True)\n",
    "#df_sorted = df_filtered.sort_values('ReceiveTime', kind=\"mergesort\")\n"
   ]
  },
  {
   "cell_type": "code",
   "execution_count": null,
   "id": "4831dab5",
   "metadata": {},
   "outputs": [],
   "source": [
    "df_filtered.head(20)"
   ]
  },
  {
   "cell_type": "markdown",
   "id": "7960c4c1",
   "metadata": {},
   "source": [
    "## Type I Error"
   ]
  },
  {
   "cell_type": "code",
   "execution_count": null,
   "id": "bcad29f6",
   "metadata": {},
   "outputs": [],
   "source": [
    "def mark_same_second_anomaly(df):\n",
    "    df = df.copy()\n",
    "    df['anomaly_label'] = df.get('anomaly_label', 0)  # 若已有欄位就保留\n",
    "    \n",
    "    for t, group in df.groupby('ReceiveTime'):\n",
    "        if len(group) == 1:\n",
    "            continue  # 單筆資料不可能同秒異常\n",
    "        \n",
    "        for coord in ['Lat', 'Long']:\n",
    "            vals = group[coord].to_numpy()\n",
    "            Q1 = np.percentile(vals, 25)\n",
    "            Q3 = np.percentile(vals, 75)\n",
    "            IQR = Q3 - Q1\n",
    "            if IQR == 0:\n",
    "                continue  # 沒有變化，跳過\n",
    "            \n",
    "            lower = Q1 - 1.5 * IQR\n",
    "            upper = Q3 + 1.5 * IQR\n",
    "            \n",
    "            outlier_idx = group.index[(vals < lower) | (vals > upper)]\n",
    "            df.loc[outlier_idx, 'anomaly_label'] = 1\n",
    "    \n",
    "    return df"
   ]
  },
  {
   "cell_type": "code",
   "execution_count": null,
   "id": "10624bab",
   "metadata": {},
   "outputs": [],
   "source": [
    "df_marked = mark_same_second_anomaly(df_filtered)"
   ]
  },
  {
   "cell_type": "code",
   "execution_count": null,
   "id": "1598ad3d",
   "metadata": {},
   "outputs": [],
   "source": [
    "df_marked['anomaly_label'].value_counts()\n"
   ]
  },
  {
   "cell_type": "markdown",
   "id": "70b12f9a",
   "metadata": {},
   "source": [
    "### Type I error verification"
   ]
  },
  {
   "cell_type": "code",
   "execution_count": null,
   "id": "d9022b5c",
   "metadata": {},
   "outputs": [],
   "source": [
    "import matplotlib.pyplot as plt\n",
    "\n",
    "# 找出第一類異常的索引（前五個）\n",
    "anomaly_idx = df_marked[df_marked['anomaly_label'] == 1].index[:5]\n",
    "\n",
    "for idx in anomaly_idx:\n",
    "    anomaly_time = df_marked.loc[idx, 'ReceiveTime']\n",
    "    # 找出該秒內的所有資料\n",
    "    same_second = df_marked[df_marked['ReceiveTime'] == anomaly_time]\n",
    "    \n",
    "    plt.figure(figsize=(6, 6))\n",
    "    plt.scatter(same_second['Long'], same_second['Lat'], color='blue', label='正常點')\n",
    "    # 標記被判定為異常的點\n",
    "    plt.scatter(df_marked.loc[idx, 'Long'], df_marked.loc[idx, 'Lat'], color='red', label='異常點', s=100)\n",
    "    \n",
    "    plt.xlabel('Longitude')\n",
    "    plt.ylabel('Latitude')\n",
    "    plt.title(f'AIS Type I Error - {anomaly_time}')\n",
    "    plt.legend()\n",
    "    plt.show()\n"
   ]
  },
  {
   "cell_type": "markdown",
   "id": "8003409c",
   "metadata": {},
   "source": [
    "## Type II Error "
   ]
  },
  {
   "cell_type": "markdown",
   "id": "76e655c5",
   "metadata": {},
   "source": [
    "### 先收起來等等用"
   ]
  },
  {
   "cell_type": "code",
   "execution_count": null,
   "id": "3c5912c5",
   "metadata": {},
   "outputs": [],
   "source": [
    "def mark_short_interval_anomaly_simple(df_mark, max_interval=300, lat_tol=0.001, lon_tol=0.001):\n",
    "    \"\"\"\n",
    "    標記第二類短時間內異常點 (簡化版)\n",
    "    ----------\n",
    "    df_mark : DataFrame\n",
    "        需要包含 ['ReceiveTime', 'Lat', 'Long', 'anomaly_label'] 欄位\n",
    "    max_interval : int\n",
    "        判定短時間異常的最大秒, 例如5分鐘 = 300秒\n",
    "    lat_tol : float\n",
    "        緯度允許變化範圍，小於此值算正常\n",
    "    lon_tol : float\n",
    "        經度允許變化範圍，小於此值算正常\n",
    "    \"\"\"\n",
    "    df_mark = df_mark.sort_values('ReceiveTime').copy()\n",
    "    df_mark['anomaly_label'] = df_mark['anomaly_label'].astype(int)\n",
    "\n",
    "    times = df_mark['ReceiveTime'].to_numpy()\n",
    "    lats = df_mark['Lat'].to_numpy()\n",
    "    lons = df_mark['Long'].to_numpy()\n",
    "\n",
    "    for i in range(1, len(df_mark)):\n",
    "        delta_t = (times[i] - times[i-1]) / np.timedelta64(1, 's')  # 秒\n",
    "\n",
    "        if delta_t <= 0 or delta_t > max_interval:\n",
    "            continue  # 只處理時間間隔在 0~max_interval 的相鄰點\n",
    "\n",
    "        lat_diff = abs(lats[i] - lats[i-1])/delta_t\n",
    "        lon_diff = abs(lons[i] - lons[i-1])/delta_t\n",
    "\n",
    "        if lat_diff > lat_tol or lon_diff > lon_tol:\n",
    "            # 只標記原本 anomaly_label == 0 的點\n",
    "            if df_mark.at[i, 'anomaly_label'] == 0:\n",
    "                df_mark.at[i, 'anomaly_label'] = 2\n",
    "\n",
    "    return df_mark\n"
   ]
  },
  {
   "cell_type": "code",
   "execution_count": null,
   "id": "f6fcce9b",
   "metadata": {},
   "outputs": [],
   "source": [
    "# 標記第二類錯誤\n",
    "df_marked = mark_short_interval_anomaly_simple(df_marked, max_interval=300, lat_tol=0.001, lon_tol=0.001)\n"
   ]
  },
  {
   "cell_type": "code",
   "execution_count": null,
   "id": "a5abc160",
   "metadata": {},
   "outputs": [],
   "source": [
    "df_marked[df_marked['anomaly_label'] == 2][['PKY','ReceiveTime','Lat','Long']].head()\n"
   ]
  },
  {
   "cell_type": "code",
   "execution_count": null,
   "id": "26c7cf7b",
   "metadata": {},
   "outputs": [],
   "source": [
    "# 找出第二類異常點及其前一筆資料\n",
    "def show_short_interval_anomalies(df):\n",
    "    # 先找出所有 anomaly_label == 2 的索引\n",
    "    anomaly_idx = df.index[df['anomaly_label'] == 2].tolist()\n",
    "    \n",
    "    rows_to_show = []\n",
    "    for idx in anomaly_idx:\n",
    "        if idx > 0:\n",
    "            # 包含前一筆資料\n",
    "            rows_to_show.append(idx-1)\n",
    "        rows_to_show.append(idx)\n",
    "    \n",
    "    # 移除重複的索引\n",
    "    rows_to_show = sorted(list(set(rows_to_show)))\n",
    "    \n",
    "    # 顯示 ReceiveTime, Lat, Long, anomaly_label\n",
    "    return df.loc[rows_to_show, ['ReceiveTime', 'Lat', 'Long', 'anomaly_label']]\n",
    "\n",
    "# 使用範例\n",
    "df_anomaly_check = show_short_interval_anomalies(df_marked)\n",
    "print(df_anomaly_check)\n"
   ]
  },
  {
   "cell_type": "markdown",
   "id": "428dd73b",
   "metadata": {},
   "source": [
    "### Type II Error verification"
   ]
  },
  {
   "cell_type": "code",
   "execution_count": null,
   "id": "6aa5e2e6",
   "metadata": {},
   "outputs": [],
   "source": [
    "import matplotlib.pyplot as plt\n",
    "\n",
    "# 找出第二類異常的索引（前五個）\n",
    "anomaly_idx = df_marked[df_marked['anomaly_label'] == 2].index[:5]\n",
    "\n",
    "for idx in anomaly_idx:\n",
    "    prev_idx = idx - 1\n",
    "    if prev_idx < 0:\n",
    "        continue  # 如果沒有前一筆就跳過\n",
    "    \n",
    "    subset = df_marked.loc[[prev_idx, idx], ['ReceiveTime', 'Lat', 'Long']]\n",
    "\n",
    "    fig, axes = plt.subplots(2, 1, figsize=(8, 6), sharex=True)\n",
    "\n",
    "    # ---- 緯度 ----\n",
    "    axes[0].plot(subset['ReceiveTime'], subset['Lat'], marker='o', color='blue', label='資料點')\n",
    "    axes[0].scatter(subset.loc[idx, 'ReceiveTime'], subset.loc[idx, 'Lat'], \n",
    "                    color='red', s=100, label='異常點')\n",
    "    axes[0].set_ylabel('Latitude')\n",
    "    axes[0].set_title(f'第二類異常 - Index {idx}')\n",
    "    axes[0].legend()\n",
    "\n",
    "    # ---- 經度 ----\n",
    "    axes[1].plot(subset['ReceiveTime'], subset['Long'], marker='o', color='blue', label='資料點')\n",
    "    axes[1].scatter(subset.loc[idx, 'ReceiveTime'], subset.loc[idx, 'Long'], \n",
    "                    color='red', s=100, label='異常點')\n",
    "    axes[1].set_xlabel('Time')\n",
    "    axes[1].set_ylabel('Longitude')\n",
    "    axes[1].legend()\n",
    "\n",
    "    plt.tight_layout()\n",
    "    plt.show()\n"
   ]
  },
  {
   "cell_type": "code",
   "execution_count": null,
   "id": "83129566",
   "metadata": {},
   "outputs": [],
   "source": [
    "df_marked.head(10)\n",
    "print(len(df_marked))"
   ]
  },
  {
   "cell_type": "markdown",
   "id": "1e7699e0",
   "metadata": {},
   "source": [
    "## Type III Error"
   ]
  },
  {
   "cell_type": "code",
   "execution_count": null,
   "id": "8eb90d12",
   "metadata": {},
   "outputs": [],
   "source": [
    "# 標記第三類錯誤\n",
    "def mark_long_interval_anomaly(df_mark, max_interval=6*3600, max_speed=15):\n",
    "    \"\"\"\n",
    "    標記第三類長時間間隔異常點\n",
    "    ----------\n",
    "    df_mark : DataFrame\n",
    "        需要包含 ['ReceiveTime', 'Lat', 'Long', 'anomaly_label'] 欄位\n",
    "    max_interval : int\n",
    "        判定長時間異常的最小秒數，例如6小時 = 21600秒\n",
    "    max_speed : float\n",
    "        長時間間隔下合理最大航速 (m/s)，超過標記異常\n",
    "    \"\"\"\n",
    "    df_mark = df_mark.sort_values('ReceiveTime').copy()\n",
    "    df_mark['anomaly_label'] = df_mark['anomaly_label'].astype(int)\n",
    "\n",
    "    times = df_mark['ReceiveTime'].to_numpy()\n",
    "    coords = df_mark[['Lat', 'Long']].to_numpy()\n",
    "\n",
    "    for i in range(1, len(df_mark)):\n",
    "        delta_t = (times[i] - times[i-1]) / np.timedelta64(1, 's')  # 秒\n",
    "\n",
    "        if delta_t <= max_interval:\n",
    "            continue  # 只處理超過 max_interval 的相鄰點\n",
    "\n",
    "        dist = geodesic(coords[i-1], coords[i]).meters\n",
    "        sog = dist / delta_t\n",
    "\n",
    "        if sog > max_speed:\n",
    "            if df_mark.at[i, 'anomaly_label'] == 0:\n",
    "                df_mark.at[i, 'anomaly_label'] = 3\n",
    "\n",
    "    return df_mark\n"
   ]
  },
  {
   "cell_type": "code",
   "execution_count": null,
   "id": "cacafc9d",
   "metadata": {},
   "outputs": [],
   "source": [
    "df_marked = mark_long_interval_anomaly(df_marked, max_interval=6*3600, max_speed=15)\n"
   ]
  },
  {
   "cell_type": "code",
   "execution_count": null,
   "id": "b7ff409c",
   "metadata": {},
   "outputs": [],
   "source": [
    "df_marked['anomaly_label'].value_counts()\n"
   ]
  },
  {
   "cell_type": "code",
   "execution_count": null,
   "id": "1125e3ff",
   "metadata": {},
   "outputs": [],
   "source": [
    "df_marked.head(20)"
   ]
  }
 ],
 "metadata": {
  "kernelspec": {
   "display_name": "test",
   "language": "python",
   "name": "python3"
  },
  "language_info": {
   "codemirror_mode": {
    "name": "ipython",
    "version": 3
   },
   "file_extension": ".py",
   "mimetype": "text/x-python",
   "name": "python",
   "nbconvert_exporter": "python",
   "pygments_lexer": "ipython3",
   "version": "3.10.0"
  }
 },
 "nbformat": 4,
 "nbformat_minor": 5
}
